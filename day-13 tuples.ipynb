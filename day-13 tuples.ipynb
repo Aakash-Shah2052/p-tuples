{
  "nbformat": 4,
  "nbformat_minor": 0,
  "metadata": {
    "kernelspec": {
      "display_name": "Python 3",
      "language": "python",
      "name": "python3"
    },
    "language_info": {
      "codemirror_mode": {
        "name": "ipython",
        "version": 3
      },
      "file_extension": ".py",
      "mimetype": "text/x-python",
      "name": "python",
      "nbconvert_exporter": "python",
      "pygments_lexer": "ipython3",
      "version": "3.7.1"
    },
    "colab": {
      "name": "tuple.ipynb",
      "provenance": []
    }
  },
  "cells": [
    {
      "cell_type": "code",
      "metadata": {
        "id": "SqPh7mTr2viL",
        "outputId": "bf09c4e5-3e20-42fd-dd16-aeb1f1f4236c"
      },
      "source": [
        "a = tuple()\n",
        "b = (1,2,3)\n",
        "print(a)\n",
        "print(b)"
      ],
      "execution_count": null,
      "outputs": [
        {
          "output_type": "stream",
          "text": [
            "()\n",
            "(1, 2, 3)\n"
          ],
          "name": "stdout"
        }
      ]
    },
    {
      "cell_type": "code",
      "metadata": {
        "id": "51K3gy0U2vib",
        "outputId": "665de5b1-ec5a-40f1-c3e6-63496c998a1e"
      },
      "source": [
        "print(type(a))\n",
        "print(type(b))"
      ],
      "execution_count": null,
      "outputs": [
        {
          "output_type": "stream",
          "text": [
            "<class 'tuple'>\n",
            "<class 'tuple'>\n"
          ],
          "name": "stdout"
        }
      ]
    },
    {
      "cell_type": "code",
      "metadata": {
        "id": "R2kKQ9ho2vid"
      },
      "source": [
        "# indexed\n",
        "# ordered\n",
        "# duplicat members\n",
        "# immutable"
      ],
      "execution_count": null,
      "outputs": []
    },
    {
      "cell_type": "code",
      "metadata": {
        "id": "Vd4z8sOK2vid",
        "outputId": "a53de4ad-6ea8-4163-ba89-b28a03ce7b83"
      },
      "source": [
        "a = (\"Apple\",\"Bal\",\"Cat\")\n",
        "a[1]"
      ],
      "execution_count": null,
      "outputs": [
        {
          "output_type": "execute_result",
          "data": {
            "text/plain": [
              "'Bal'"
            ]
          },
          "metadata": {
            "tags": []
          },
          "execution_count": 6
        }
      ]
    },
    {
      "cell_type": "code",
      "metadata": {
        "id": "pBxCxV-r2vie",
        "outputId": "1141721b-90b8-427e-de6b-dfcac823a881"
      },
      "source": [
        "a = (\"Apple\",\"Bal\",\"Cat\")\n",
        "a[0:2]"
      ],
      "execution_count": null,
      "outputs": [
        {
          "output_type": "execute_result",
          "data": {
            "text/plain": [
              "('Apple', 'Bal')"
            ]
          },
          "metadata": {
            "tags": []
          },
          "execution_count": 7
        }
      ]
    },
    {
      "cell_type": "code",
      "metadata": {
        "id": "bjsB-AHV2vif",
        "outputId": "22182d67-840c-4e17-b3e7-a7c5a63e06a4"
      },
      "source": [
        "a = (\"Apple\",\"Bal\",\"Cat\")\n",
        "len(a)"
      ],
      "execution_count": null,
      "outputs": [
        {
          "output_type": "execute_result",
          "data": {
            "text/plain": [
              "3"
            ]
          },
          "metadata": {
            "tags": []
          },
          "execution_count": 8
        }
      ]
    },
    {
      "cell_type": "code",
      "metadata": {
        "id": "VBt4wlib2vif",
        "outputId": "a804e68d-4856-4e20-acfd-99513fa577a1"
      },
      "source": [
        "a = (1,2,3)\n",
        "b = (4,5,6)\n",
        "print(a+b)"
      ],
      "execution_count": null,
      "outputs": [
        {
          "output_type": "stream",
          "text": [
            "(1, 2, 3, 4, 5, 6)\n"
          ],
          "name": "stdout"
        }
      ]
    },
    {
      "cell_type": "code",
      "metadata": {
        "id": "Gj479K6r2vig",
        "outputId": "011b24b7-ed5f-4d3e-bba7-dcb7083571d4"
      },
      "source": [
        "a = (1,2,3)\n",
        "print(a*2)"
      ],
      "execution_count": null,
      "outputs": [
        {
          "output_type": "stream",
          "text": [
            "(1, 2, 3, 1, 2, 3)\n"
          ],
          "name": "stdout"
        }
      ]
    },
    {
      "cell_type": "code",
      "metadata": {
        "id": "TRBp9ZPb2vih",
        "outputId": "319c4ac0-7393-4113-e049-8a1573a2d370"
      },
      "source": [
        "a = (\"Apple\",)\n",
        "type(a)"
      ],
      "execution_count": null,
      "outputs": [
        {
          "output_type": "execute_result",
          "data": {
            "text/plain": [
              "tuple"
            ]
          },
          "metadata": {
            "tags": []
          },
          "execution_count": 16
        }
      ]
    },
    {
      "cell_type": "code",
      "metadata": {
        "id": "EZTO53jK2vih",
        "outputId": "9260f9a1-ddbc-41df-a498-555a6e61d6fe"
      },
      "source": [
        "a = (1,2,3,4,)\n",
        "type(a)"
      ],
      "execution_count": null,
      "outputs": [
        {
          "output_type": "execute_result",
          "data": {
            "text/plain": [
              "tuple"
            ]
          },
          "metadata": {
            "tags": []
          },
          "execution_count": 21
        }
      ]
    },
    {
      "cell_type": "code",
      "metadata": {
        "id": "i5J0PJDj2vii",
        "outputId": "1387b5c8-32b3-481e-840e-76f1290b845c"
      },
      "source": [
        "a = (234,56,213,54)\n",
        "print(min(a))\n",
        "print(max(a))\n",
        "print(sum(a))"
      ],
      "execution_count": null,
      "outputs": [
        {
          "output_type": "stream",
          "text": [
            "54\n",
            "234\n",
            "557\n"
          ],
          "name": "stdout"
        }
      ]
    },
    {
      "cell_type": "code",
      "metadata": {
        "id": "XITFzBPU2vii",
        "outputId": "974c5dcd-c015-4842-fe68-574d9a96ed6b"
      },
      "source": [
        "a = (1,2,3)\n",
        "a[0] = 0"
      ],
      "execution_count": null,
      "outputs": [
        {
          "output_type": "error",
          "ename": "TypeError",
          "evalue": "'tuple' object does not support item assignment",
          "traceback": [
            "\u001b[1;31m---------------------------------------------------------------------------\u001b[0m",
            "\u001b[1;31mTypeError\u001b[0m                                 Traceback (most recent call last)",
            "\u001b[1;32m<ipython-input-26-9731bbe3fc3e>\u001b[0m in \u001b[0;36m<module>\u001b[1;34m\u001b[0m\n\u001b[0;32m      1\u001b[0m \u001b[0ma\u001b[0m \u001b[1;33m=\u001b[0m \u001b[1;33m(\u001b[0m\u001b[1;36m1\u001b[0m\u001b[1;33m,\u001b[0m\u001b[1;36m2\u001b[0m\u001b[1;33m,\u001b[0m\u001b[1;36m3\u001b[0m\u001b[1;33m)\u001b[0m\u001b[1;33m\u001b[0m\u001b[1;33m\u001b[0m\u001b[0m\n\u001b[1;32m----> 2\u001b[1;33m \u001b[0ma\u001b[0m\u001b[1;33m[\u001b[0m\u001b[1;36m0\u001b[0m\u001b[1;33m]\u001b[0m \u001b[1;33m=\u001b[0m \u001b[1;36m0\u001b[0m\u001b[1;33m\u001b[0m\u001b[1;33m\u001b[0m\u001b[0m\n\u001b[0m",
            "\u001b[1;31mTypeError\u001b[0m: 'tuple' object does not support item assignment"
          ]
        }
      ]
    },
    {
      "cell_type": "code",
      "metadata": {
        "id": "9gt8d_Kf2vij"
      },
      "source": [
        "a = ()\n",
        "b = (1,)\n",
        "c = a+b\n",
        "d = c+(2,)"
      ],
      "execution_count": null,
      "outputs": []
    },
    {
      "cell_type": "code",
      "metadata": {
        "id": "6YJVuCI-2vij",
        "outputId": "f8da03b7-dfaf-459b-ae43-84d17cda4a25"
      },
      "source": [
        "print(d)"
      ],
      "execution_count": null,
      "outputs": [
        {
          "output_type": "stream",
          "text": [
            "(1, 2)\n"
          ],
          "name": "stdout"
        }
      ]
    },
    {
      "cell_type": "code",
      "metadata": {
        "id": "WYyH-RXO2vik",
        "outputId": "21a58f40-836a-4d4f-e7f5-8ee7d84bcb4a"
      },
      "source": [
        "t = ()\n",
        "n = int(input(\"Enter n = \"))\n",
        "for i in range(n):\n",
        "    x = int(input(\"Enter x = \"))\n",
        "    t = t+(x,)\n",
        "print(t)"
      ],
      "execution_count": null,
      "outputs": [
        {
          "output_type": "stream",
          "text": [
            "Enter n = 2\n",
            "Enter x = 23423\n",
            "Enter x = 34\n",
            "(23423, 34)\n"
          ],
          "name": "stdout"
        }
      ]
    },
    {
      "cell_type": "code",
      "metadata": {
        "id": "JQXfsPBn2vik",
        "outputId": "5704f425-5359-445f-9f5c-61d4d375de22"
      },
      "source": [
        "a = (324,34,23,54,34,53)\n",
        "b = sorted(a)\n",
        "b"
      ],
      "execution_count": null,
      "outputs": [
        {
          "output_type": "execute_result",
          "data": {
            "text/plain": [
              "[23, 34, 34, 53, 54, 324]"
            ]
          },
          "metadata": {
            "tags": []
          },
          "execution_count": 33
        }
      ]
    },
    {
      "cell_type": "code",
      "metadata": {
        "id": "CJv4M_di2vil",
        "outputId": "5a2de3d0-8520-4dc8-bb3c-0d73f2dc49f7"
      },
      "source": [
        "print(a)"
      ],
      "execution_count": null,
      "outputs": [
        {
          "output_type": "stream",
          "text": [
            "(324, 34, 23, 54, 34, 53)\n"
          ],
          "name": "stdout"
        }
      ]
    },
    {
      "cell_type": "code",
      "metadata": {
        "id": "W1bxOCzW2vil",
        "outputId": "c0f38a35-2a8b-4115-e345-26bb75d5873b"
      },
      "source": [
        "a = (324,34,23,54,34,53)\n",
        "b = list(a)\n",
        "del b[-1]\n",
        "print(b)"
      ],
      "execution_count": null,
      "outputs": [
        {
          "output_type": "stream",
          "text": [
            "[324, 34, 23, 54, 34]\n"
          ],
          "name": "stdout"
        }
      ]
    },
    {
      "cell_type": "code",
      "metadata": {
        "id": "BJNpJycE2vil",
        "outputId": "357e857b-3b9b-4abf-9de9-0e8cc360f658"
      },
      "source": [
        "a = tuple(b)\n",
        "print(a)"
      ],
      "execution_count": null,
      "outputs": [
        {
          "output_type": "stream",
          "text": [
            "(324, 34, 23, 54, 34)\n"
          ],
          "name": "stdout"
        }
      ]
    },
    {
      "cell_type": "code",
      "metadata": {
        "id": "fIDjIRdf2vim",
        "outputId": "88566e2f-b699-4689-a81c-7e7786a6b9eb"
      },
      "source": [
        "a = (324,34,23,54,34,53)\n",
        "a[0:-1]"
      ],
      "execution_count": null,
      "outputs": [
        {
          "output_type": "execute_result",
          "data": {
            "text/plain": [
              "(324, 34, 23, 54, 34)"
            ]
          },
          "metadata": {
            "tags": []
          },
          "execution_count": 43
        }
      ]
    },
    {
      "cell_type": "code",
      "metadata": {
        "id": "BGuhsYzI2vim",
        "outputId": "995e67ff-7edf-4300-c37b-3fe48a9179f2"
      },
      "source": [
        "a = \"Python\"\n",
        "list(a)"
      ],
      "execution_count": null,
      "outputs": [
        {
          "output_type": "execute_result",
          "data": {
            "text/plain": [
              "['P', 'y', 't', 'h', 'o', 'n']"
            ]
          },
          "metadata": {
            "tags": []
          },
          "execution_count": 44
        }
      ]
    },
    {
      "cell_type": "code",
      "metadata": {
        "id": "LHZl7Frt2vim",
        "outputId": "277a0015-2724-4d9e-df3a-c452dfb73f18"
      },
      "source": [
        "a = \"Python\"\n",
        "tuple(a)"
      ],
      "execution_count": null,
      "outputs": [
        {
          "output_type": "execute_result",
          "data": {
            "text/plain": [
              "('P', 'y', 't', 'h', 'o', 'n')"
            ]
          },
          "metadata": {
            "tags": []
          },
          "execution_count": 45
        }
      ]
    },
    {
      "cell_type": "code",
      "metadata": {
        "id": "P64qo-f92vin",
        "outputId": "9f1406e3-536d-440e-e26a-3811c98aed1b"
      },
      "source": [
        "a = ['P', 'y', 't', 'h', 'o', 'n']\n",
        "str(a)"
      ],
      "execution_count": null,
      "outputs": [
        {
          "output_type": "execute_result",
          "data": {
            "text/plain": [
              "\"['P', 'y', 't', 'h', 'o', 'n']\""
            ]
          },
          "metadata": {
            "tags": []
          },
          "execution_count": 46
        }
      ]
    },
    {
      "cell_type": "code",
      "metadata": {
        "id": "kyDDkpGA2vin",
        "outputId": "a0150484-df76-4f41-8b36-1099fc7daa67"
      },
      "source": [
        "a = (\"Apple\",\"Ball\",\"Cat\",\"Dog\")\n",
        "if \"Apple\" in a:\n",
        "    print(\"yes\")"
      ],
      "execution_count": null,
      "outputs": [
        {
          "output_type": "stream",
          "text": [
            "yes\n"
          ],
          "name": "stdout"
        }
      ]
    },
    {
      "cell_type": "code",
      "metadata": {
        "id": "U9osCtsj2vin"
      },
      "source": [
        "# tuple inside tuple\n",
        "a = ((1,2,3),(4,5,6),(7,8,9))\n",
        "\n",
        "# list inside tuple\n",
        "a = ([1,2,3],[4,5,6],[7,8,9])\n",
        "\n",
        "# tuple inside list\n",
        "a = [(1,2,3),(4,5,6),(7,8,9)]"
      ],
      "execution_count": null,
      "outputs": []
    },
    {
      "cell_type": "code",
      "metadata": {
        "id": "vCHn2mIQ2vio",
        "outputId": "db4ad687-7707-45a7-a5f9-cbb570993e4c"
      },
      "source": [
        "# tuple inside tuple\n",
        "a = ((1,2,3),\n",
        "     (4,5,6),\n",
        "     (7,8,9))\n",
        "b = (10,11,12)\n",
        "a+(b,)"
      ],
      "execution_count": null,
      "outputs": [
        {
          "output_type": "execute_result",
          "data": {
            "text/plain": [
              "((1, 2, 3), (4, 5, 6), (7, 8, 9), (10, 11, 12))"
            ]
          },
          "metadata": {
            "tags": []
          },
          "execution_count": 50
        }
      ]
    },
    {
      "cell_type": "code",
      "metadata": {
        "id": "3CaSPe552vio",
        "outputId": "abd7a167-6d44-405a-8948-3ac570238cf8"
      },
      "source": [
        "a = ()\n",
        "n = int(input(\"Enter n = \"))\n",
        "for i in range(n):\n",
        "    x = input(\"Enter name = \")\n",
        "    y = int(input(\"Enter age = \"))\n",
        "    z = input(\"Enter address = \")\n",
        "    data = (x,y,z)\n",
        "    a = a+(data,)\n",
        "print(a)"
      ],
      "execution_count": null,
      "outputs": [
        {
          "output_type": "stream",
          "text": [
            "Enter n = 2\n",
            "Enter name = asdas\n",
            "Enter age = 234\n",
            "Enter address = sdfsd\n",
            "Enter name = dfsdfs\n",
            "Enter age = 342\n",
            "Enter address = sdf\n",
            "(('asdas', 234, 'sdfsd'), ('dfsdfs', 342, 'sdf'))\n"
          ],
          "name": "stdout"
        }
      ]
    },
    {
      "cell_type": "code",
      "metadata": {
        "id": "0KTJOMd_2vio",
        "outputId": "1c85f4f5-d424-4381-b9ff-c0bd2804591f"
      },
      "source": [
        "b = list(a)\n",
        "b"
      ],
      "execution_count": null,
      "outputs": [
        {
          "output_type": "execute_result",
          "data": {
            "text/plain": [
              "[('asdas', 234, 'sdfsd'), ('dfsdfs', 342, 'sdf')]"
            ]
          },
          "metadata": {
            "tags": []
          },
          "execution_count": 54
        }
      ]
    },
    {
      "cell_type": "code",
      "metadata": {
        "id": "ejJtMtAd2vip",
        "outputId": "fbf99f24-2eb6-41a5-9465-3449c803158d"
      },
      "source": [
        "b[0] = ('Ram',34,\"Kathmandu\")\n",
        "b"
      ],
      "execution_count": null,
      "outputs": [
        {
          "output_type": "execute_result",
          "data": {
            "text/plain": [
              "[('Ram', 34, 'Kathmandu'), ('dfsdfs', 342, 'sdf')]"
            ]
          },
          "metadata": {
            "tags": []
          },
          "execution_count": 56
        }
      ]
    },
    {
      "cell_type": "code",
      "metadata": {
        "id": "Rfemf8Fb2vip",
        "outputId": "45589d97-2e71-49be-b15d-e6e36cb2d9aa"
      },
      "source": [
        "b.append((\"Shyam\",34,\"Patan\"))\n",
        "b"
      ],
      "execution_count": null,
      "outputs": [
        {
          "output_type": "execute_result",
          "data": {
            "text/plain": [
              "[('Ram', 34, 'Kathmandu'), ('dfsdfs', 342, 'sdf'), ('Shyam', 34, 'Patan')]"
            ]
          },
          "metadata": {
            "tags": []
          },
          "execution_count": 57
        }
      ]
    },
    {
      "cell_type": "code",
      "metadata": {
        "id": "ybg2r6IBB60i",
        "outputId": "9f32f44d-769e-4b2b-a653-5476c6b9ef41",
        "colab": {
          "base_uri": "https://localhost:8080/"
        }
      },
      "source": [
        "#tuples inside tuple to tuples inside list\r\n",
        "a = ((1,2,3),(4,5,6),(7,8,9))\r\n",
        "b =list(a)\r\n",
        "print(b)"
      ],
      "execution_count": 2,
      "outputs": [
        {
          "output_type": "stream",
          "text": [
            "[(1, 2, 3), (4, 5, 6), (7, 8, 9)]\n"
          ],
          "name": "stdout"
        }
      ]
    },
    {
      "cell_type": "code",
      "metadata": {
        "id": "Ym2w3yqc2vip",
        "outputId": "f67c072d-be5b-4bdb-87c2-376bd30d8cbf"
      },
      "source": [
        "#tuples inside tuple to list inside list\n",
        "data = []\n",
        "a = ((1,2,3),(4,5,6),(7,8,9))\n",
        "b =list(a)\n",
        "for i in b:\n",
        "    data.append(list(i))\n",
        "    \n",
        "print(data)"
      ],
      "execution_count": null,
      "outputs": [
        {
          "output_type": "stream",
          "text": [
            "[[1, 2, 3], [4, 5, 6], [7, 8, 9]]\n"
          ],
          "name": "stdout"
        }
      ]
    },
    {
      "cell_type": "code",
      "metadata": {
        "id": "Vr6AQXwj2vip",
        "outputId": "73868208-1a06-45dd-dc16-75af57d88c62"
      },
      "source": [
        "def cal():\n",
        "    a = 10\n",
        "    b = 20\n",
        "    return a,b\n",
        "cal()"
      ],
      "execution_count": null,
      "outputs": [
        {
          "output_type": "execute_result",
          "data": {
            "text/plain": [
              "(10, 20)"
            ]
          },
          "metadata": {
            "tags": []
          },
          "execution_count": 61
        }
      ]
    },
    {
      "cell_type": "code",
      "metadata": {
        "id": "0GudWy8k2viq",
        "outputId": "b37e3dbf-484e-445e-fe01-9d4c2ce157f6"
      },
      "source": [
        "# list inside tuple\n",
        "a = ([1,2,3],[4,5,6],[7,8,9])\n",
        "a[0].append(4)\n",
        "a"
      ],
      "execution_count": null,
      "outputs": [
        {
          "output_type": "execute_result",
          "data": {
            "text/plain": [
              "([1, 2, 3, 4], [4, 5, 6], [7, 8, 9])"
            ]
          },
          "metadata": {
            "tags": []
          },
          "execution_count": 63
        }
      ]
    },
    {
      "cell_type": "code",
      "metadata": {
        "id": "3G-X1Npc2viq",
        "outputId": "2dcc6755-9d8b-4b0a-8542-3f8ed35e40c1"
      },
      "source": [
        "# list inside tuple\n",
        "a = ([1,2,3,4],[4,5,6],[7,8,9])\n",
        "del a[0][3]\n",
        "a"
      ],
      "execution_count": null,
      "outputs": [
        {
          "output_type": "execute_result",
          "data": {
            "text/plain": [
              "([1, 2, 3], [4, 5, 6], [7, 8, 9])"
            ]
          },
          "metadata": {
            "tags": []
          },
          "execution_count": 68
        }
      ]
    },
    {
      "cell_type": "code",
      "metadata": {
        "id": "FVNbKIoW2viq",
        "outputId": "8c7d8cc0-c185-46a3-fd70-c5645b9d0e9a"
      },
      "source": [
        "# list inside tuple\n",
        "a = ([1,2,3,4],[4,5,6],[7,8,9])\n",
        "b = ([10,11,12],)\n",
        "\n",
        "a+b"
      ],
      "execution_count": null,
      "outputs": [
        {
          "output_type": "execute_result",
          "data": {
            "text/plain": [
              "([1, 2, 3, 4], [4, 5, 6], [7, 8, 9], [10, 11, 12])"
            ]
          },
          "metadata": {
            "tags": []
          },
          "execution_count": 71
        }
      ]
    },
    {
      "cell_type": "code",
      "metadata": {
        "id": "FzkxalFC2vir",
        "outputId": "83799ba3-84d2-48d7-f48a-88d96e803c05",
        "colab": {
          "base_uri": "https://localhost:8080/"
        }
      },
      "source": [
        "#converting tuples inside tuples to tuples inside list\r\n",
        "a = ((1,2,3),(4,5,6),(7,8,9))\r\n",
        "b = list(a)\r\n",
        "print(b)\r\n"
      ],
      "execution_count": 5,
      "outputs": [
        {
          "output_type": "stream",
          "text": [
            "[(1, 2, 3), (4, 5, 6), (7, 8, 9)]\n"
          ],
          "name": "stdout"
        }
      ]
    },
    {
      "cell_type": "code",
      "metadata": {
        "id": "vHZETvBITT1j",
        "outputId": "86d1dea4-db28-4b3c-d68a-c28ff4430972",
        "colab": {
          "base_uri": "https://localhost:8080/"
        }
      },
      "source": [
        "#converting tuples inside tuples to list inside list\r\n",
        "data = []\r\n",
        "a = ((1,2,3),(4,5,6),(7,8,9))\r\n",
        "b = list(a)\r\n",
        "for i in b:\r\n",
        "  data.append(list(i))\r\n",
        "print(data)  "
      ],
      "execution_count": 7,
      "outputs": [
        {
          "output_type": "stream",
          "text": [
            "[[1, 2, 3], [4, 5, 6], [7, 8, 9]]\n"
          ],
          "name": "stdout"
        }
      ]
    },
    {
      "cell_type": "code",
      "metadata": {
        "id": "GpdI48mjVQ-X",
        "outputId": "158c9688-a8b7-4171-d927-d768ed351b77",
        "colab": {
          "base_uri": "https://localhost:8080/"
        }
      },
      "source": [
        "#converting list inside list to list inside tuples\r\n",
        "a = [[1, 2, 3], [4, 5, 6], [7, 8, 9]]\r\n",
        "b = tuple(a)\r\n",
        "print(b)"
      ],
      "execution_count": 10,
      "outputs": [
        {
          "output_type": "stream",
          "text": [
            "([1, 2, 3], [4, 5, 6], [7, 8, 9])\n"
          ],
          "name": "stdout"
        }
      ]
    },
    {
      "cell_type": "code",
      "metadata": {
        "id": "V1gwMg19bJ1w",
        "outputId": "0482e3d8-0e09-489d-b2ca-cc4ed90ad283",
        "colab": {
          "base_uri": "https://localhost:8080/"
        }
      },
      "source": [
        "#converting list inside list to tuple inside tuple\r\n",
        "c = ()\r\n",
        "a = [[1, 2, 3], [4, 5, 6], [7, 8, 9]]\r\n",
        "for i in a:\r\n",
        "  data = tuple(i)\r\n",
        "  c = c + (data,)\r\n",
        "print(c)  "
      ],
      "execution_count": 15,
      "outputs": [
        {
          "output_type": "stream",
          "text": [
            "((1, 2, 3), (4, 5, 6), (7, 8, 9))\n"
          ],
          "name": "stdout"
        }
      ]
    }
  ]
}